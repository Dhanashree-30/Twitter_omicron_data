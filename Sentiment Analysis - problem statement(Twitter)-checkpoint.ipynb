{
 "cells": [
  {
   "cell_type": "markdown",
   "metadata": {},
   "source": [
    "### <span style = 'color:green'> Capstone Project </span>\n",
    "#### <span style = 'color:blue'> Problem statement : Perform sentiment analysis on Omnicron variant, data fetching directly from twitter</span>\n",
    "**Sentiment analysis is the process of identifying feelings and emotions expressed in words, through ML or AI**\n",
    "\n",
    "**Project Pipeline**\n",
    "\n",
    "Various steps in completing project are\n",
    "\n",
    "- **Import Necessary Dependencies**\n",
    "- **Read and Load the Dataset**\n",
    "- **Exploratory Data Analysis**\n",
    "- **Data Visualization of Target Variables**\n",
    "- **Data Preprocessing**\n",
    "- **Splitting our data into Train and Test Subset**\n",
    "- **Transforming Dataset using TF-IDF Vectorizer**\n",
    "- **Function for Model Evaluation**\n",
    "- **Model Building**\n",
    "- **Conclusion**\n",
    "\n",
    "- Here we have to get dataset directly fetched from twitter in realtime \n",
    "\n",
    "- performing realtime sentimental analysis on realtime data collecting from twitter\n",
    "- objective: perform sentiment analysis on realtime data collected from twitter \n",
    "\n",
    "                      \n",
    "\n",
    "           "
   ]
  },
  {
   "cell_type": "markdown",
   "metadata": {},
   "source": [
    "### <span style = 'color:blue'>   API (Application Programm Interface)</span>\n",
    "- Imagine you’re sitting at a table in a restaurant with a menu of choices to order from. The kitchen is the part of the “system” that will prepare your order. What is missing is the critical link to communicate your order to the kitchen and deliver your food back to your table. That’s where the waiter or API comes in. The waiter is the messenger – or API – that takes your request or order and tells the kitchen – the system – what to do. Then the waiter delivers the response back to you; in this case, it is the food.\n",
    "- API's are huge and are used everywhere\n",
    "- In simple words api stands as bridge for one to access the content in one's storage \n",
    "- There are many APIs on the Twitter platform that software developers can engage with, with the ultimate possibility to create fully automated systems which will interact with Twitter. While this feature could benefit companies by drawing insights from Twitter data\n",
    "\n",
    "   **From twitter api it's possible to extract many insights some are**\n",
    "- Tweets: searching, posting, filtering, engagement, streaming etc.\n",
    "- Accounts and users (Beta): account management, user interactions.\n",
    "- Media: uploading and accessing photos, videos and animated GIFs.\n",
    "- Trends: trending topics in a given location.\n",
    "- Geo: information about known places or places near a location."
   ]
  },
  {
   "cell_type": "markdown",
   "metadata": {},
   "source": [
    "**Getting twitter API keys**\n",
    "- If you don't already have an account, you can login with your normal Twitter credentials \n",
    "\n",
    "\n",
    "- follow the required prompts to create a developer project or click here <a href=\"https://dev.twitter.com/apps\" title=\"Twitter\">Click here</a>\n",
    "- Requesting the API key and secret via the Developer Portal causes Twitter to produce the following three things:\n",
    "1. API key (this is your 'consumer key')\n",
    "2. API secret key (this is your 'consumer secret')\n",
    "3. Bearer token\n",
    "- Next, visit the 'Authentication Tokens' area of the Developer Portal and generate an 'Access token & secret'. This will provide you with the following two items:\n",
    "1. Access token (this is your 'token key')\n",
    "2. Access token secret (this is your 'token secret')\n",
    "\n",
    "\n",
    "**Expected output**\n",
    "- the data fetched from twitter should undergo EDA for analyzing, cleaning, handling, manupulation, visualization..,etc\n",
    "- final output should show the sentiment of the data\n"
   ]
  },
  {
   "cell_type": "markdown",
   "metadata": {},
   "source": [
    "  *Some tips to consider*\n",
    "\n",
    "- Machines can learn in every possible way so its always better to think out of the box\n",
    "    \n",
    "- Perform eda as diverse as possible and in contineous manner\n",
    "    \n",
    "- Try configuring with diffrent models to know how each model is diffrent with other ones \n",
    "    \n",
    "- Donot try to involve unneccesory codes and useless algorithms for dataset which just increases complexity\n",
    "    \n",
    "- Approaching problem statement in n number of ways helps us to find best one possible\n",
    "    \n",
    "- It's easier for one to understnd and manupulate if we have models as simple as possible \n",
    "    \n",
    "- When we have multiple models we can have multiple judgements based on models and their efficiencies\n",
    "    \n",
    "- Tuning helps increasing accuracy :)\n",
    "    \n",
    "- Have an idea of time consumed by the model, its better to have a model whose time management is good\n",
    "    \n",
    "- Spend good amount of time on analyzing dataset and draw as much insights as possible"
   ]
  },
  {
   "cell_type": "markdown",
   "metadata": {},
   "source": [
    "- Tweepy is importantlibrary we will using to fetch data from twitter by api\n",
    "\n",
    "\n",
    "For more on tweepy documentation please click here <a href=\"https://docs.tweepy.org/en/stable/getting_started.html#hello-tweepy\" title=\"Tweepy\">Click here</a>"
   ]
  },
  {
   "cell_type": "code",
   "execution_count": 1,
   "metadata": {},
   "outputs": [
    {
     "name": "stdout",
     "output_type": "stream",
     "text": [
      "Collecting tweepyNote: you may need to restart the kernel to use updated packages.\n",
      "\n",
      "  Downloading tweepy-4.15.0-py3-none-any.whl.metadata (4.1 kB)\n",
      "Collecting oauthlib<4,>=3.2.0 (from tweepy)\n",
      "  Downloading oauthlib-3.2.2-py3-none-any.whl.metadata (7.5 kB)\n",
      "Requirement already satisfied: requests<3,>=2.27.0 in c:\\users\\dhanashree a chitrap\\anaconda3\\lib\\site-packages (from tweepy) (2.32.2)\n",
      "Collecting requests-oauthlib<3,>=1.2.0 (from tweepy)\n",
      "  Downloading requests_oauthlib-2.0.0-py2.py3-none-any.whl.metadata (11 kB)\n",
      "Requirement already satisfied: charset-normalizer<4,>=2 in c:\\users\\dhanashree a chitrap\\anaconda3\\lib\\site-packages (from requests<3,>=2.27.0->tweepy) (2.0.4)\n",
      "Requirement already satisfied: idna<4,>=2.5 in c:\\users\\dhanashree a chitrap\\anaconda3\\lib\\site-packages (from requests<3,>=2.27.0->tweepy) (3.7)\n",
      "Requirement already satisfied: urllib3<3,>=1.21.1 in c:\\users\\dhanashree a chitrap\\anaconda3\\lib\\site-packages (from requests<3,>=2.27.0->tweepy) (2.2.2)\n",
      "Requirement already satisfied: certifi>=2017.4.17 in c:\\users\\dhanashree a chitrap\\anaconda3\\lib\\site-packages (from requests<3,>=2.27.0->tweepy) (2024.6.2)\n",
      "Downloading tweepy-4.15.0-py3-none-any.whl (99 kB)\n",
      "   ---------------------------------------- 0.0/99.4 kB ? eta -:--:--\n",
      "   ------------ --------------------------- 30.7/99.4 kB 1.4 MB/s eta 0:00:01\n",
      "   ------------------------------------- -- 92.2/99.4 kB 1.1 MB/s eta 0:00:01\n",
      "   ---------------------------------------- 99.4/99.4 kB 817.8 kB/s eta 0:00:00\n",
      "Downloading oauthlib-3.2.2-py3-none-any.whl (151 kB)\n",
      "   ---------------------------------------- 0.0/151.7 kB ? eta -:--:--\n",
      "   ---------- ----------------------------- 41.0/151.7 kB ? eta -:--:--\n",
      "   ----------------------------- ---------- 112.6/151.7 kB 1.3 MB/s eta 0:00:01\n",
      "   ---------------------------------------- 151.7/151.7 kB 1.3 MB/s eta 0:00:00\n",
      "Downloading requests_oauthlib-2.0.0-py2.py3-none-any.whl (24 kB)\n",
      "Installing collected packages: oauthlib, requests-oauthlib, tweepy\n",
      "Successfully installed oauthlib-3.2.2 requests-oauthlib-2.0.0 tweepy-4.15.0\n"
     ]
    }
   ],
   "source": [
    "pip install tweepy"
   ]
  },
  {
   "cell_type": "code",
   "execution_count": 5,
   "metadata": {},
   "outputs": [
    {
     "name": "stdout",
     "output_type": "stream",
     "text": [
      "Tweet ID: 1880868307114565772\n",
      "Text: @drseanmullen @ukhadds My partner and I have never been jabbed,  both HIV+, me BANNED from Carle Commie Fascists,no HIV meds for 4 years. Neither of us have been sick with ANYTHING since OMICRON. Can you explain that,  good wise doctor? I'm serious, explain this Dr. Bigmouth, you'll have to in court.\n",
      "Created At: 2025-01-19 06:42:03+00:00\n",
      "\n",
      "Tweet ID: 1880868212356882903\n",
      "Text: @drseanmullen @JohnWalcott20 My partner and I have never been jabbed,  both HIV+, me BANNED from Carle Commie Fascists,no HIV meds for 4 years. Neither of us have been sick with ANYTHING since OMICRON. Can you explain that,  good wise doctor? I'm serious, explain this Dr. Bigmouth, you'll have to in court.\n",
      "Created At: 2025-01-19 06:41:41+00:00\n",
      "\n",
      "Tweet ID: 1880868131398361163\n",
      "Text: @drseanmullen @hoolie_r My partner and I have never been jabbed,  both HIV+, me BANNED from Carle Commie Fascists,no HIV meds for 4 years. Neither of us have been sick with ANYTHING since OMICRON. Can you explain that,  good wise doctor? I'm serious, explain this Dr. Bigmouth, you'll have to in court.\n",
      "Created At: 2025-01-19 06:41:22+00:00\n",
      "\n",
      "Tweet ID: 1880868096954728873\n",
      "Text: @drseanmullen My partner and I have never been jabbed,  both HIV+, me BANNED from Carle Commie Fascists,no HIV meds for 4 years. Neither of us have been sick with ANYTHING since OMICRON. Can you explain that,  good wise doctor? I'm serious, explain this Dr. Bigmouth, you'll have to in court.\n",
      "Created At: 2025-01-19 06:41:13+00:00\n",
      "\n",
      "Tweet ID: 1880868065489170597\n",
      "Text: @drseanmullen My partner and I have never been jabbed,  both HIV+, me BANNED from Carle Commie Fascists,no HIV meds for 4 years. Neither of us have been sick with ANYTHING since OMICRON. Can you explain that,  good wise doctor? I'm serious, explain this Dr. Bigmouth, you'll have to in court.\n",
      "Created At: 2025-01-19 06:41:06+00:00\n",
      "\n",
      "Tweet ID: 1880868034816172214\n",
      "Text: @drseanmullen My partner and I have never been jabbed,  both HIV+, me BANNED from Carle Commie Fascists,no HIV meds for 4 years. Neither of us have been sick with ANYTHING since OMICRON. Can you explain that,  good wise doctor? I'm serious, explain this Dr. Bigmouth, you'll have to in court.\n",
      "Created At: 2025-01-19 06:40:58+00:00\n",
      "\n",
      "Tweet ID: 1880867810039255458\n",
      "Text: @drseanmullen @MisstorchieP @morgfair My partner and I have never been jabbed,  both HIV+, me BANNED from Carle Commie Fascists,no HIV meds for 4 years. Neither of us have been sick with ANYTHING since OMICRON. Can you explain that,  good wise doctor? I'm serious, explain this Dr. Bigmouth, you'll have to in court.\n",
      "Created At: 2025-01-19 06:40:05+00:00\n",
      "\n",
      "Tweet ID: 1880866666495770720\n",
      "Text: @Earthdriver @picole1454 \n",
      "Two posts:\n",
      "Omicron Sequence (s) https://t.co/O7Y6g1QGeC\n",
      "Created At: 2025-01-19 06:35:32+00:00\n",
      "\n",
      "Tweet ID: 1880860864745738424\n",
      "Text: @alanbarnard1 Everything else in the article is from samples obtained early in the pandemic (not omicron, pre vaccination) or in vitro studies - which we should always interpret cautiously as they often don’t translate clinically. It’s a boring article. https://t.co/oi65hbWAS3\n",
      "Created At: 2025-01-19 06:12:29+00:00\n",
      "\n",
      "Tweet ID: 1880851519878434868\n",
      "Text: @convomf Omicron\n",
      "Created At: 2025-01-19 05:35:21+00:00\n",
      "\n"
     ]
    }
   ],
   "source": [
    "import tweepy\n",
    "\n",
    "# Set up your credentials\n",
    "API_KEY = \"jKw0HWqN0KTHOSAHqR2oJJJrr\"\n",
    "API_SECRET_KEY = \"gZoOISzceUtMMTEZp8lOA2oCQFEp6Ot4wbGT66yBVX7ZNcOTsx\"\n",
    "ACCESS_TOKEN = \"1281524124662198273-5U7oeq9Z4giekJCBrQ16NXnIWKz34j\"\n",
    "ACCESS_TOKEN_SECRET = \"EutIibtm1o73Ojy1KwuMXA1lbEIU3FUrHgTS62sFAsyR2\"\n",
    "BEARER_TOKEN = \"AAAAAAAAAAAAAAAAAAAAAMg%2ByQEAAAAAD6rxyt2OmTgmXS3SYo3U7t%2FtMvg%3DrzMx46Lh5kohPKbW5SSF2RgGBIFAmKmzKthlQKYcQjjglf26ze\"\n",
    "\n",
    "# Authenticate with Twitter API v2\n",
    "client = tweepy.Client(bearer_token=BEARER_TOKEN)\n",
    "\n",
    "# Define your query\n",
    "query = \"Omicron -is:retweet lang:en\"  # Exclude retweets and filter by English tweets\n",
    "\n",
    "# Fetch tweets using the v2 search_recent_tweets endpoint\n",
    "response = client.search_recent_tweets(query=query, max_results=10, tweet_fields=[\"id\", \"text\", \"created_at\"])\n",
    "\n",
    "# Process and display the tweets\n",
    "tweets = response.data\n",
    "for tweet in tweets:\n",
    "    print(f\"Tweet ID: {tweet.id}\")\n",
    "    print(f\"Text: {tweet.text}\")\n",
    "    print(f\"Created At: {tweet.created_at}\\n\")\n"
   ]
  },
  {
   "cell_type": "code",
   "execution_count": 8,
   "metadata": {},
   "outputs": [],
   "source": [
    "import pandas as pd\n",
    "\n",
    "# Organize tweet data into a list of dictionaries\n",
    "tweet_data = [\n",
    "    {\n",
    "        \"Tweet ID\": 1880868307114565772,\n",
    "        \"Text\": \"@drseanmullen @ukhadds My partner and I have never been jabbed,  both HIV+, me BANNED from Carle Commie Fascists,no HIV meds for 4 years. Neither of us have been sick with ANYTHING since OMICRON. Can you explain that,  good wise doctor? I'm serious, explain this Dr. Bigmouth, you'll have to in court.\",\n",
    "        \"Created At\": \"2025-01-19 06:42:03+00:00\"\n",
    "    },\n",
    "    {\n",
    "        \"Tweet ID\": 1880868212356882903,\n",
    "        \"Text\": \"@drseanmullen @JohnWalcott20 My partner and I have never been jabbed,  both HIV+, me BANNED from Carle Commie Fascists,no HIV meds for 4 years. Neither of us have been sick with ANYTHING since OMICRON. Can you explain that,  good wise doctor? I'm serious, explain this Dr. Bigmouth, you'll have to in court.\",\n",
    "        \"Created At\": \"2025-01-19 06:41:41+00:00\"\n",
    "    },\n",
    "    {\n",
    "     \"Tweet ID\": 1880868131398361163,\n",
    "    \"Text\": \"@drseanmullen @hoolie_r My partner and I have never been jabbed,  both HIV+, me BANNED from Carle Commie Fascists,no HIV meds for 4 years. Neither of us have been sick with ANYTHING since OMICRON. Can you explain that,  good wise doctor? I'm serious, explain this Dr. Bigmouth, you'll have to in court.\",\n",
    "\"Created At\": \"2025-01-19 06:41:22+00:00\"\n",
    "    },\n",
    "    {\n",
    "        \"Tweet ID\": 1880868096954728873,\n",
    "\"Text\": \"@drseanmullen My partner and I have never been jabbed,  both HIV+, me BANNED from Carle Commie Fascists,no HIV meds for 4 years. Neither of us have been sick with ANYTHING since OMICRON. Can you explain that,  good wise doctor? I'm serious, explain this Dr. Bigmouth, you'll have to in court.\",\n",
    "\"Created At\": \"2025-01-19 06:41:13+00:00\"\n",
    "    },\n",
    "    {\n",
    "        \"Tweet ID\": 1880868065489170597,\n",
    "\"Text\": \"@drseanmullen My partner and I have never been jabbed,  both HIV+, me BANNED from Carle Commie Fascists,no HIV meds for 4 years. Neither of us have been sick with ANYTHING since OMICRON. Can you explain that,  good wise doctor? I'm serious, explain this Dr. Bigmouth, you'll have to in court.\",\n",
    "\"Created At\": \"2025-01-19 06:41:06+00:00\"\n",
    "\n",
    "    },\n",
    "    {\n",
    "        \"Tweet ID\": 1880868034816172214,\n",
    "\"Text\": \"@drseanmullen My partner and I have never been jabbed,  both HIV+, me BANNED from Carle Commie Fascists,no HIV meds for 4 years. Neither of us have been sick with ANYTHING since OMICRON. Can you explain that,  good wise doctor? I'm serious, explain this Dr. Bigmouth, you'll have to in court.\",\n",
    "\"Created At\": \"2025-01-19 06:40:58+00:00\" \n",
    "    },\n",
    "   {\n",
    "       \"Tweet ID\": 1880867810039255458,\n",
    "\"Text\": \"@drseanmullen @MisstorchieP @morgfair My partner and I have never been jabbed,  both HIV+, me BANNED from Carle Commie Fascists,no HIV meds for 4 years. Neither of us have been sick with ANYTHING since OMICRON. Can you explain that,  good wise doctor? I'm serious, explain this Dr. Bigmouth, you'll have to in court.\",\n",
    "\"Created At\": \"2025-01-19 06:40:05+00:00\"\n",
    "   },\n",
    "    {\n",
    "     \"Tweet ID\": 1880860864745738424,\n",
    "\"Text\": \"@alanbarnard1 Everything else in the article is from samples obtained early in the pandemic (not omicron, pre vaccination) or in vitro studies - which we should always interpret cautiously as they often don’t translate clinically. It’s a boring article. https://t.co/oi65hbWAS3\",\n",
    "\"Created At\": \"2025-01-19 06:12:29+00:00\"   \n",
    "    },\n",
    "    {\n",
    "        \"Tweet ID\": 1880851519878434868,\n",
    "\"Text\": \"@convomf Omicron\",\n",
    "\"Created At\": \"2025-01-19 05:35:21+00:00\"\n",
    "    }\n",
    "\n",
    "]\n",
    "\n",
    "# Convert the list of dictionaries to a pandas DataFrame\n",
    "df = pd.DataFrame(tweet_data)\n"
   ]
  },
  {
   "cell_type": "code",
   "execution_count": 9,
   "metadata": {},
   "outputs": [
    {
     "name": "stdout",
     "output_type": "stream",
     "text": [
      "CSV file 'tweets.csv' saved successfully!\n"
     ]
    }
   ],
   "source": [
    "# Save the DataFrame to a CSV file\n",
    "df.to_csv(\"tweets.csv\", index=False, encoding=\"utf-8\")\n",
    "\n",
    "# Confirm the file is saved\n",
    "print(\"CSV file 'tweets.csv' saved successfully!\")\n"
   ]
  },
  {
   "cell_type": "code",
   "execution_count": 10,
   "metadata": {},
   "outputs": [],
   "source": [
    "import pandas as pd\n",
    "import numpy as np\n",
    "import matplotlib.pyplot as plt\n",
    "import seaborn as sns\n",
    "import warnings\n",
    "warnings.filterwarnings('ignore')\n",
    "%matplotlib inline"
   ]
  },
  {
   "cell_type": "code",
   "execution_count": 13,
   "metadata": {},
   "outputs": [],
   "source": [
    "import nltk\n",
    "from sklearn.feature_extraction.text import CountVectorizer\n",
    "from sklearn.feature_extraction.text import TfidfVectorizer\n",
    "from sklearn.preprocessing import LabelEncoder,LabelBinarizer\n",
    "from nltk.corpus import stopwords\n",
    "from nltk.stem.porter import PorterStemmer\n",
    "from nltk.stem import WordNetLemmatizer\n",
    "from nltk.tokenize import word_tokenize,sent_tokenize\n",
    "from nltk.stem import LancasterStemmer\n",
    "from bs4 import BeautifulSoup\n",
    "#import spacy\n",
    "import re,unicodedata,string\n",
    "from nltk.tokenize.toktok import ToktokTokenizer\n",
    "from sklearn.linear_model import LogisticRegression,SGDClassifier\n",
    "from sklearn.naive_bayes import MultinomialNB\n",
    "from sklearn.svm import SVC\n",
    "from sklearn.metrics import classification_report,confusion_matrix,accuracy_score\n",
    "import re"
   ]
  },
  {
   "cell_type": "code",
   "execution_count": 14,
   "metadata": {},
   "outputs": [
    {
     "name": "stdout",
     "output_type": "stream",
     "text": [
      "              Tweet ID                                               Text  \\\n",
      "0  1880868307114565772  @drseanmullen @ukhadds My partner and I have n...   \n",
      "1  1880868212356882903  @drseanmullen @JohnWalcott20 My partner and I ...   \n",
      "2  1880868131398361163  @drseanmullen @hoolie_r My partner and I have ...   \n",
      "3  1880868096954728873  @drseanmullen My partner and I have never been...   \n",
      "4  1880868065489170597  @drseanmullen My partner and I have never been...   \n",
      "5  1880868034816172214  @drseanmullen My partner and I have never been...   \n",
      "6  1880867810039255458  @drseanmullen @MisstorchieP @morgfair My partn...   \n",
      "7  1880860864745738424  @alanbarnard1 Everything else in the article i...   \n",
      "8  1880851519878434868                                   @convomf Omicron   \n",
      "\n",
      "                  Created At  \n",
      "0  2025-01-19 06:42:03+00:00  \n",
      "1  2025-01-19 06:41:41+00:00  \n",
      "2  2025-01-19 06:41:22+00:00  \n",
      "3  2025-01-19 06:41:13+00:00  \n",
      "4  2025-01-19 06:41:06+00:00  \n",
      "5  2025-01-19 06:40:58+00:00  \n",
      "6  2025-01-19 06:40:05+00:00  \n",
      "7  2025-01-19 06:12:29+00:00  \n",
      "8  2025-01-19 05:35:21+00:00  \n"
     ]
    }
   ],
   "source": [
    "df = pd.read_csv(\"tweets.csv\")\n",
    "print(df)"
   ]
  },
  {
   "cell_type": "code",
   "execution_count": 15,
   "metadata": {},
   "outputs": [
    {
     "data": {
      "text/html": [
       "<div>\n",
       "<style scoped>\n",
       "    .dataframe tbody tr th:only-of-type {\n",
       "        vertical-align: middle;\n",
       "    }\n",
       "\n",
       "    .dataframe tbody tr th {\n",
       "        vertical-align: top;\n",
       "    }\n",
       "\n",
       "    .dataframe thead th {\n",
       "        text-align: right;\n",
       "    }\n",
       "</style>\n",
       "<table border=\"1\" class=\"dataframe\">\n",
       "  <thead>\n",
       "    <tr style=\"text-align: right;\">\n",
       "      <th></th>\n",
       "      <th>Tweet ID</th>\n",
       "      <th>Text</th>\n",
       "      <th>Created At</th>\n",
       "    </tr>\n",
       "  </thead>\n",
       "  <tbody>\n",
       "    <tr>\n",
       "      <th>0</th>\n",
       "      <td>1880868307114565772</td>\n",
       "      <td>@drseanmullen @ukhadds My partner and I have n...</td>\n",
       "      <td>2025-01-19 06:42:03+00:00</td>\n",
       "    </tr>\n",
       "    <tr>\n",
       "      <th>1</th>\n",
       "      <td>1880868212356882903</td>\n",
       "      <td>@drseanmullen @JohnWalcott20 My partner and I ...</td>\n",
       "      <td>2025-01-19 06:41:41+00:00</td>\n",
       "    </tr>\n",
       "    <tr>\n",
       "      <th>2</th>\n",
       "      <td>1880868131398361163</td>\n",
       "      <td>@drseanmullen @hoolie_r My partner and I have ...</td>\n",
       "      <td>2025-01-19 06:41:22+00:00</td>\n",
       "    </tr>\n",
       "    <tr>\n",
       "      <th>3</th>\n",
       "      <td>1880868096954728873</td>\n",
       "      <td>@drseanmullen My partner and I have never been...</td>\n",
       "      <td>2025-01-19 06:41:13+00:00</td>\n",
       "    </tr>\n",
       "    <tr>\n",
       "      <th>4</th>\n",
       "      <td>1880868065489170597</td>\n",
       "      <td>@drseanmullen My partner and I have never been...</td>\n",
       "      <td>2025-01-19 06:41:06+00:00</td>\n",
       "    </tr>\n",
       "  </tbody>\n",
       "</table>\n",
       "</div>"
      ],
      "text/plain": [
       "              Tweet ID                                               Text  \\\n",
       "0  1880868307114565772  @drseanmullen @ukhadds My partner and I have n...   \n",
       "1  1880868212356882903  @drseanmullen @JohnWalcott20 My partner and I ...   \n",
       "2  1880868131398361163  @drseanmullen @hoolie_r My partner and I have ...   \n",
       "3  1880868096954728873  @drseanmullen My partner and I have never been...   \n",
       "4  1880868065489170597  @drseanmullen My partner and I have never been...   \n",
       "\n",
       "                  Created At  \n",
       "0  2025-01-19 06:42:03+00:00  \n",
       "1  2025-01-19 06:41:41+00:00  \n",
       "2  2025-01-19 06:41:22+00:00  \n",
       "3  2025-01-19 06:41:13+00:00  \n",
       "4  2025-01-19 06:41:06+00:00  "
      ]
     },
     "execution_count": 15,
     "metadata": {},
     "output_type": "execute_result"
    }
   ],
   "source": [
    "df.head()"
   ]
  },
  {
   "cell_type": "code",
   "execution_count": 21,
   "metadata": {},
   "outputs": [
    {
     "data": {
      "text/plain": [
       "Tweet ID        0\n",
       "Text            0\n",
       "Created At      0\n",
       "Cleaned_Text    0\n",
       "dtype: int64"
      ]
     },
     "execution_count": 21,
     "metadata": {},
     "output_type": "execute_result"
    }
   ],
   "source": [
    "df.isna().sum()"
   ]
  },
  {
   "cell_type": "code",
   "execution_count": 22,
   "metadata": {},
   "outputs": [
    {
     "data": {
      "text/html": [
       "<div>\n",
       "<style scoped>\n",
       "    .dataframe tbody tr th:only-of-type {\n",
       "        vertical-align: middle;\n",
       "    }\n",
       "\n",
       "    .dataframe tbody tr th {\n",
       "        vertical-align: top;\n",
       "    }\n",
       "\n",
       "    .dataframe thead th {\n",
       "        text-align: right;\n",
       "    }\n",
       "</style>\n",
       "<table border=\"1\" class=\"dataframe\">\n",
       "  <thead>\n",
       "    <tr style=\"text-align: right;\">\n",
       "      <th></th>\n",
       "      <th>Tweet ID</th>\n",
       "    </tr>\n",
       "  </thead>\n",
       "  <tbody>\n",
       "    <tr>\n",
       "      <th>count</th>\n",
       "      <td>9.000000e+00</td>\n",
       "    </tr>\n",
       "    <tr>\n",
       "      <th>mean</th>\n",
       "      <td>1.880865e+18</td>\n",
       "    </tr>\n",
       "    <tr>\n",
       "      <th>std</th>\n",
       "      <td>5.746245e+12</td>\n",
       "    </tr>\n",
       "    <tr>\n",
       "      <th>min</th>\n",
       "      <td>1.880852e+18</td>\n",
       "    </tr>\n",
       "    <tr>\n",
       "      <th>25%</th>\n",
       "      <td>1.880868e+18</td>\n",
       "    </tr>\n",
       "    <tr>\n",
       "      <th>50%</th>\n",
       "      <td>1.880868e+18</td>\n",
       "    </tr>\n",
       "    <tr>\n",
       "      <th>75%</th>\n",
       "      <td>1.880868e+18</td>\n",
       "    </tr>\n",
       "    <tr>\n",
       "      <th>max</th>\n",
       "      <td>1.880868e+18</td>\n",
       "    </tr>\n",
       "  </tbody>\n",
       "</table>\n",
       "</div>"
      ],
      "text/plain": [
       "           Tweet ID\n",
       "count  9.000000e+00\n",
       "mean   1.880865e+18\n",
       "std    5.746245e+12\n",
       "min    1.880852e+18\n",
       "25%    1.880868e+18\n",
       "50%    1.880868e+18\n",
       "75%    1.880868e+18\n",
       "max    1.880868e+18"
      ]
     },
     "execution_count": 22,
     "metadata": {},
     "output_type": "execute_result"
    }
   ],
   "source": [
    "df.describe()"
   ]
  },
  {
   "cell_type": "code",
   "execution_count": 23,
   "metadata": {},
   "outputs": [
    {
     "name": "stdout",
     "output_type": "stream",
     "text": [
      "<class 'pandas.core.frame.DataFrame'>\n",
      "RangeIndex: 9 entries, 0 to 8\n",
      "Data columns (total 4 columns):\n",
      " #   Column        Non-Null Count  Dtype \n",
      "---  ------        --------------  ----- \n",
      " 0   Tweet ID      9 non-null      int64 \n",
      " 1   Text          9 non-null      object\n",
      " 2   Created At    9 non-null      object\n",
      " 3   Cleaned_Text  9 non-null      object\n",
      "dtypes: int64(1), object(3)\n",
      "memory usage: 420.0+ bytes\n"
     ]
    }
   ],
   "source": [
    "df.info()"
   ]
  },
  {
   "cell_type": "code",
   "execution_count": 34,
   "metadata": {},
   "outputs": [
    {
     "name": "stderr",
     "output_type": "stream",
     "text": [
      "[nltk_data] Downloading package punkt to C:\\Users\\Dhanashree A\n",
      "[nltk_data]     Chitrap\\AppData\\Roaming\\nltk_data...\n",
      "[nltk_data]   Package punkt is already up-to-date!\n",
      "[nltk_data] Downloading package wordnet to C:\\Users\\Dhanashree A\n",
      "[nltk_data]     Chitrap\\AppData\\Roaming\\nltk_data...\n"
     ]
    },
    {
     "data": {
      "text/plain": [
       "True"
      ]
     },
     "execution_count": 34,
     "metadata": {},
     "output_type": "execute_result"
    }
   ],
   "source": [
    "import nltk\n",
    "nltk.download('punkt')\n",
    "nltk.download('wordnet')"
   ]
  },
  {
   "cell_type": "code",
   "execution_count": 35,
   "metadata": {},
   "outputs": [
    {
     "data": {
      "text/html": [
       "<div>\n",
       "<style scoped>\n",
       "    .dataframe tbody tr th:only-of-type {\n",
       "        vertical-align: middle;\n",
       "    }\n",
       "\n",
       "    .dataframe tbody tr th {\n",
       "        vertical-align: top;\n",
       "    }\n",
       "\n",
       "    .dataframe thead th {\n",
       "        text-align: right;\n",
       "    }\n",
       "</style>\n",
       "<table border=\"1\" class=\"dataframe\">\n",
       "  <thead>\n",
       "    <tr style=\"text-align: right;\">\n",
       "      <th></th>\n",
       "      <th>Text</th>\n",
       "      <th>Cleaned_Text</th>\n",
       "    </tr>\n",
       "  </thead>\n",
       "  <tbody>\n",
       "    <tr>\n",
       "      <th>0</th>\n",
       "      <td>@drseanmullen @ukhadds My partner and I have n...</td>\n",
       "      <td>drseanmullen ukhadds partner never jabbed hiv ...</td>\n",
       "    </tr>\n",
       "    <tr>\n",
       "      <th>1</th>\n",
       "      <td>@drseanmullen @JohnWalcott20 My partner and I ...</td>\n",
       "      <td>drseanmullen johnwalcott partner never jabbed ...</td>\n",
       "    </tr>\n",
       "    <tr>\n",
       "      <th>2</th>\n",
       "      <td>@drseanmullen @hoolie_r My partner and I have ...</td>\n",
       "      <td>drseanmullen hoolier partner never jabbed hiv ...</td>\n",
       "    </tr>\n",
       "    <tr>\n",
       "      <th>3</th>\n",
       "      <td>@drseanmullen My partner and I have never been...</td>\n",
       "      <td>drseanmullen partner never jabbed hiv banned c...</td>\n",
       "    </tr>\n",
       "    <tr>\n",
       "      <th>4</th>\n",
       "      <td>@drseanmullen My partner and I have never been...</td>\n",
       "      <td>drseanmullen partner never jabbed hiv banned c...</td>\n",
       "    </tr>\n",
       "  </tbody>\n",
       "</table>\n",
       "</div>"
      ],
      "text/plain": [
       "                                                Text  \\\n",
       "0  @drseanmullen @ukhadds My partner and I have n...   \n",
       "1  @drseanmullen @JohnWalcott20 My partner and I ...   \n",
       "2  @drseanmullen @hoolie_r My partner and I have ...   \n",
       "3  @drseanmullen My partner and I have never been...   \n",
       "4  @drseanmullen My partner and I have never been...   \n",
       "\n",
       "                                        Cleaned_Text  \n",
       "0  drseanmullen ukhadds partner never jabbed hiv ...  \n",
       "1  drseanmullen johnwalcott partner never jabbed ...  \n",
       "2  drseanmullen hoolier partner never jabbed hiv ...  \n",
       "3  drseanmullen partner never jabbed hiv banned c...  \n",
       "4  drseanmullen partner never jabbed hiv banned c...  "
      ]
     },
     "execution_count": 35,
     "metadata": {},
     "output_type": "execute_result"
    }
   ],
   "source": [
    "# Data preprocessing function\n",
    "def clean_text(text):\n",
    "    text = re.sub(r'http\\S+', '', text)  # Remove URLs\n",
    "    text = re.sub(r'[^a-zA-Z\\s]', '', text)  # Remove non-alphabetical characters\n",
    "    text = text.lower()  # Convert to lowercase\n",
    "    text = word_tokenize(text)  # Tokenize\n",
    "    text = [word for word in text if word not in stopwords.words('english')]  # Remove stopwords\n",
    "    lemmatizer = WordNetLemmatizer()\n",
    "    text = [lemmatizer.lemmatize(word) for word in text]  # Lemmatization\n",
    "    return ' '.join(text)\n",
    "\n",
    "# Apply the clean_text function to the tweet text\n",
    "df['Cleaned_Text'] = df['Text'].apply(clean_text)\n",
    "\n",
    "# Check the cleaned text\n",
    "df[['Text', 'Cleaned_Text']].head()\n"
   ]
  },
  {
   "cell_type": "code",
   "execution_count": 37,
   "metadata": {},
   "outputs": [
    {
     "name": "stdout",
     "output_type": "stream",
     "text": [
      "Collecting textblob\n",
      "  Downloading textblob-0.19.0-py3-none-any.whl.metadata (4.4 kB)\n",
      "Collecting nltk>=3.9 (from textblob)\n",
      "  Downloading nltk-3.9.1-py3-none-any.whl.metadata (2.9 kB)\n",
      "Requirement already satisfied: click in c:\\users\\dhanashree a chitrap\\anaconda3\\lib\\site-packages (from nltk>=3.9->textblob) (8.1.7)\n",
      "Requirement already satisfied: joblib in c:\\users\\dhanashree a chitrap\\anaconda3\\lib\\site-packages (from nltk>=3.9->textblob) (1.4.2)\n",
      "Requirement already satisfied: regex>=2021.8.3 in c:\\users\\dhanashree a chitrap\\anaconda3\\lib\\site-packages (from nltk>=3.9->textblob) (2023.10.3)\n",
      "Requirement already satisfied: tqdm in c:\\users\\dhanashree a chitrap\\anaconda3\\lib\\site-packages (from nltk>=3.9->textblob) (4.66.4)\n",
      "Requirement already satisfied: colorama in c:\\users\\dhanashree a chitrap\\anaconda3\\lib\\site-packages (from click->nltk>=3.9->textblob) (0.4.6)\n",
      "Downloading textblob-0.19.0-py3-none-any.whl (624 kB)\n",
      "   ---------------------------------------- 0.0/624.3 kB ? eta -:--:--\n",
      "   ----- ---------------------------------- 92.2/624.3 kB 1.8 MB/s eta 0:00:01\n",
      "   ----- ---------------------------------- 92.2/624.3 kB 1.8 MB/s eta 0:00:01\n",
      "   -------------- ------------------------- 225.3/624.3 kB 1.5 MB/s eta 0:00:01\n",
      "   --------------- ------------------------ 235.5/624.3 kB 1.4 MB/s eta 0:00:01\n",
      "   ----------------------- ---------------- 368.6/624.3 kB 1.6 MB/s eta 0:00:01\n",
      "   ---------------------------- ----------- 450.6/624.3 kB 1.7 MB/s eta 0:00:01\n",
      "   ------------------------------------ --- 563.2/624.3 kB 1.8 MB/s eta 0:00:01\n",
      "   ---------------------------------------  614.4/624.3 kB 1.8 MB/s eta 0:00:01\n",
      "   ---------------------------------------  614.4/624.3 kB 1.8 MB/s eta 0:00:01\n",
      "   ---------------------------------------- 624.3/624.3 kB 1.5 MB/s eta 0:00:00\n",
      "Downloading nltk-3.9.1-py3-none-any.whl (1.5 MB)\n",
      "   ---------------------------------------- 0.0/1.5 MB ? eta -:--:--\n",
      "   -- ------------------------------------- 0.1/1.5 MB 2.9 MB/s eta 0:00:01\n",
      "   ----- ---------------------------------- 0.2/1.5 MB 2.6 MB/s eta 0:00:01\n",
      "   --------- ------------------------------ 0.3/1.5 MB 3.1 MB/s eta 0:00:01\n",
      "   ------------ --------------------------- 0.5/1.5 MB 2.9 MB/s eta 0:00:01\n",
      "   -------------- ------------------------- 0.6/1.5 MB 2.9 MB/s eta 0:00:01\n",
      "   ------------------- -------------------- 0.7/1.5 MB 3.1 MB/s eta 0:00:01\n",
      "   ----------------------- ---------------- 0.9/1.5 MB 3.2 MB/s eta 0:00:01\n",
      "   --------------------------- ------------ 1.0/1.5 MB 3.1 MB/s eta 0:00:01\n",
      "   ---------------------------- ----------- 1.1/1.5 MB 2.9 MB/s eta 0:00:01\n",
      "   ---------------------------- ----------- 1.1/1.5 MB 2.9 MB/s eta 0:00:01\n",
      "   ---------------------------- ----------- 1.1/1.5 MB 2.9 MB/s eta 0:00:01\n",
      "   ----------------------------- ---------- 1.1/1.5 MB 2.4 MB/s eta 0:00:01\n",
      "   ---------------------------------- ----- 1.3/1.5 MB 2.4 MB/s eta 0:00:01\n",
      "   ------------------------------------ --- 1.4/1.5 MB 2.4 MB/s eta 0:00:01\n",
      "   ---------------------------------------  1.5/1.5 MB 2.5 MB/s eta 0:00:01\n",
      "   ---------------------------------------  1.5/1.5 MB 2.5 MB/s eta 0:00:01\n",
      "   ---------------------------------------  1.5/1.5 MB 2.5 MB/s eta 0:00:01\n",
      "   ---------------------------------------- 1.5/1.5 MB 2.1 MB/s eta 0:00:00\n",
      "Installing collected packages: nltk, textblob\n",
      "  Attempting uninstall: nltk\n",
      "    Found existing installation: nltk 3.8.1\n",
      "    Uninstalling nltk-3.8.1:\n",
      "      Successfully uninstalled nltk-3.8.1\n",
      "Successfully installed nltk-3.9.1 textblob-0.19.0\n",
      "Note: you may need to restart the kernel to use updated packages.\n"
     ]
    }
   ],
   "source": [
    "pip install textblob"
   ]
  },
  {
   "cell_type": "code",
   "execution_count": 38,
   "metadata": {},
   "outputs": [
    {
     "data": {
      "text/html": [
       "<div>\n",
       "<style scoped>\n",
       "    .dataframe tbody tr th:only-of-type {\n",
       "        vertical-align: middle;\n",
       "    }\n",
       "\n",
       "    .dataframe tbody tr th {\n",
       "        vertical-align: top;\n",
       "    }\n",
       "\n",
       "    .dataframe thead th {\n",
       "        text-align: right;\n",
       "    }\n",
       "</style>\n",
       "<table border=\"1\" class=\"dataframe\">\n",
       "  <thead>\n",
       "    <tr style=\"text-align: right;\">\n",
       "      <th></th>\n",
       "      <th>Text</th>\n",
       "      <th>Sentiment</th>\n",
       "    </tr>\n",
       "  </thead>\n",
       "  <tbody>\n",
       "    <tr>\n",
       "      <th>0</th>\n",
       "      <td>@drseanmullen @ukhadds My partner and I have n...</td>\n",
       "      <td>1</td>\n",
       "    </tr>\n",
       "    <tr>\n",
       "      <th>1</th>\n",
       "      <td>@drseanmullen @JohnWalcott20 My partner and I ...</td>\n",
       "      <td>1</td>\n",
       "    </tr>\n",
       "    <tr>\n",
       "      <th>2</th>\n",
       "      <td>@drseanmullen @hoolie_r My partner and I have ...</td>\n",
       "      <td>1</td>\n",
       "    </tr>\n",
       "    <tr>\n",
       "      <th>3</th>\n",
       "      <td>@drseanmullen My partner and I have never been...</td>\n",
       "      <td>1</td>\n",
       "    </tr>\n",
       "    <tr>\n",
       "      <th>4</th>\n",
       "      <td>@drseanmullen My partner and I have never been...</td>\n",
       "      <td>1</td>\n",
       "    </tr>\n",
       "  </tbody>\n",
       "</table>\n",
       "</div>"
      ],
      "text/plain": [
       "                                                Text  Sentiment\n",
       "0  @drseanmullen @ukhadds My partner and I have n...          1\n",
       "1  @drseanmullen @JohnWalcott20 My partner and I ...          1\n",
       "2  @drseanmullen @hoolie_r My partner and I have ...          1\n",
       "3  @drseanmullen My partner and I have never been...          1\n",
       "4  @drseanmullen My partner and I have never been...          1"
      ]
     },
     "execution_count": 38,
     "metadata": {},
     "output_type": "execute_result"
    }
   ],
   "source": [
    "from textblob import TextBlob\n",
    "\n",
    "# Define a function to label sentiment\n",
    "def get_sentiment(text):\n",
    "    analysis = TextBlob(text)\n",
    "    return 1 if analysis.sentiment.polarity > 0 else 0  # 1 for positive, 0 for negative\n",
    "\n",
    "# Apply sentiment labeling\n",
    "df['Sentiment'] = df['Cleaned_Text'].apply(get_sentiment)\n",
    "\n",
    "# Check the result\n",
    "df[['Text', 'Sentiment']].head()\n"
   ]
  },
  {
   "cell_type": "code",
   "execution_count": 40,
   "metadata": {},
   "outputs": [],
   "source": [
    "from sklearn.model_selection import train_test_split\n",
    "X = df['Cleaned_Text']\n",
    "y = df['Sentiment']\n",
    "\n",
    "# Split the dataset into training and testing subsets\n",
    "X_train, X_test, y_train, y_test = train_test_split(X, y, test_size=0.2, random_state=42)\n"
   ]
  },
  {
   "cell_type": "code",
   "execution_count": 41,
   "metadata": {},
   "outputs": [],
   "source": [
    "vectorizer = TfidfVectorizer(max_features=5000)\n",
    "X_train_tfidf = vectorizer.fit_transform(X_train)\n",
    "X_test_tfidf = vectorizer.transform(X_test)"
   ]
  },
  {
   "cell_type": "code",
   "execution_count": 42,
   "metadata": {},
   "outputs": [
    {
     "name": "stdout",
     "output_type": "stream",
     "text": [
      "              precision    recall  f1-score   support\n",
      "\n",
      "           0       0.00      0.00      0.00         1\n",
      "           1       0.50      1.00      0.67         1\n",
      "\n",
      "    accuracy                           0.50         2\n",
      "   macro avg       0.25      0.50      0.33         2\n",
      "weighted avg       0.25      0.50      0.33         2\n",
      "\n",
      "Accuracy: 0.5\n",
      "Confusion Matrix:\n",
      "[[0 1]\n",
      " [0 1]]\n"
     ]
    }
   ],
   "source": [
    "# Build and train the Naive Bayes model\n",
    "model = MultinomialNB()\n",
    "model.fit(X_train_tfidf, y_train)\n",
    "\n",
    "# Evaluate the model\n",
    "y_pred = model.predict(X_test_tfidf)\n",
    "\n",
    "# Print evaluation metrics\n",
    "print(classification_report(y_test, y_pred))\n",
    "print(f\"Accuracy: {accuracy_score(y_test, y_pred)}\")\n",
    "print(f\"Confusion Matrix:\\n{confusion_matrix(y_test, y_pred)}\")"
   ]
  },
  {
   "cell_type": "code",
   "execution_count": 43,
   "metadata": {},
   "outputs": [
    {
     "data": {
      "image/png": "[encoded data removed]",
      "text/plain": [
       "<Figure size 640x480 with 1 Axes>"
      ]
     },
     "metadata": {},
     "output_type": "display_data"
    },
    {
     "data": {
      "image/png": "[encoded data removed]",
      "text/plain": [
       "<Figure size 640x480 with 1 Axes>"
      ]
     },
     "metadata": {},
     "output_type": "display_data"
    }
   ],
   "source": [
    "# Plot sentiment distribution\n",
    "sns.countplot(x='Sentiment', data=df)\n",
    "plt.title('Sentiment Distribution')\n",
    "plt.show()\n",
    "\n",
    "# Plot tweet frequency over time\n",
    "df['Created At'] = pd.to_datetime(df['Created At'])\n",
    "df['hour'] = df['Created At'].dt.hour\n",
    "sns.countplot(x='hour', data=df)\n",
    "plt.title('Tweet Frequency by Hour')\n",
    "plt.show()"
   ]
  },
  {
   "cell_type": "code",
   "execution_count": null,
   "metadata": {},
   "outputs": [],
   "source": []
  }
 ],
 "metadata": {
  "kernelspec": {
   "display_name": "Python 3 (ipykernel)",
   "language": "python",
   "name": "python3"
  },
  "language_info": {
   "codemirror_mode": {
    "name": "ipython",
    "version": 3
   },
   "file_extension": ".py",
   "mimetype": "text/x-python",
   "name": "python",
   "nbconvert_exporter": "python",
   "pygments_lexer": "ipython3",
   "version": "3.12.4"
  }
 },
 "nbformat": 4,
 "nbformat_minor": 4
}
